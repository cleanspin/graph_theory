{
 "cells": [
  {
   "cell_type": "markdown",
   "metadata": {},
   "source": [
    "# GRAPHS\n",
    "___\n",
    "\n",
    "___\n",
    "\n",
    "- **What is a Graph?** &ensp;&ensp;&ensp;&ensp;&ensp;&ensp;&ensp;&ensp;&ensp;&ensp;&ensp;&ensp;&ensp;&ensp;&ensp;&ensp;&ensp;&ensp;&ensp;&ensp;&ensp;&ensp;&ensp;&ensp; [`Introduction`](##What-is-a-Graph?)\n",
    "- **Brief history lesson on Graphs** &ensp;&ensp;&ensp;&ensp;&ensp;&ensp;&ensp;&ensp;&ensp;&ensp;&ensp;&ensp; [`The First Graph`](#The-bridges-of-Konisberg-Problem)\n",
    "- **Examples of graphs all around us** &ensp;&ensp;&ensp;&ensp;&ensp;&ensp;&ensp;&ensp;&ensp;&ensp;&ensp;&ensp; [`Cool Graphs`](##Things-that-are-Graphs)\n",
    "- **A Graph of Ice and Fire** &ensp;&ensp;&ensp;&ensp;&ensp;&ensp;&ensp;&ensp;&ensp;&ensp;&ensp;&ensp;&ensp;&ensp;&ensp;&ensp; [`Practical Exercise`](##A-Graph-of-Ice-and-Fire)"
   ]
  },
  {
   "cell_type": "markdown",
   "metadata": {},
   "source": [
    "## What is a Graph?"
   ]
  },
  {
   "cell_type": "code",
   "execution_count": 43,
   "metadata": {},
   "outputs": [],
   "source": [
    "graph = (\"In mathematics, and more specifically in graph theory, a graph is a structure amounting to a set of objects in which some pairs of the objects are in some sense \\\"related\\\". The objects correspond to mathematical abstractions called vertices (also called nodes or points) and each of the related pairs of vertices is called an edge. Typically, a graph is depicted in diagrammatic form as a set of dots or circles for the vertices, joined by lines or curves for the edges.\", 'Graph theory is a field of discrete mathematics', \"graph is the fancy mathematical name for what you know as a network\", \"graphs are composed by nodes and edges\", 'In computer science, a graph is an abstract data type that borrows the concepts of directed graph and undirected graph from mathematics.')"
   ]
  },
  {
   "cell_type": "code",
   "execution_count": 44,
   "metadata": {},
   "outputs": [
    {
     "data": {
      "text/plain": [
       "'In computer science, a graph is an abstract data type that borrows the concepts of directed graph and undirected graph from mathematics.'"
      ]
     },
     "execution_count": 44,
     "metadata": {},
     "output_type": "execute_result"
    }
   ],
   "source": [
    "graph[4]"
   ]
  },
  {
   "cell_type": "code",
   "execution_count": 45,
   "metadata": {},
   "outputs": [],
   "source": [
    "graphs_can_be = ['directed', 'undirected', 'weighted']\n",
    "graph_types = ['Oriented', 'Regular', 'Complete', 'Finite',\n",
    "               'Connected', 'Bipartite', 'Path', 'Planar', 'Cycle',\n",
    "               'Tree', 'Polytree', 'other_advanced_classes']\n"
   ]
  },
  {
   "cell_type": "markdown",
   "metadata": {},
   "source": [
    "## The bridges of Konisberg Problem "
   ]
  },
  {
   "cell_type": "markdown",
   "metadata": {},
   "source": [
    "![euler](http://www.quickmeme.com/img/ba/ba0b8139b52d6ba9dea25129014207413ebca262638a6a84c70da9f3e1640189.jpg)"
   ]
  },
  {
   "cell_type": "markdown",
   "metadata": {},
   "source": [
    "![gif](https://www.maa.org/sites/default/files/images/cms_upload/Konigsberg_colour37936.jpg)"
   ]
  },
  {
   "cell_type": "markdown",
   "metadata": {},
   "source": [
    "# Is it possible to cross all the bridges once and only once?"
   ]
  },
  {
   "cell_type": "markdown",
   "metadata": {},
   "source": [
    "![](https://i.stack.imgur.com/Ufw1m.jpg)"
   ]
  },
  {
   "cell_type": "markdown",
   "metadata": {},
   "source": [
    "![](https://www.researchgate.net/profile/Joaquin_Marro/publication/235822889/figure/fig1/AS:654792493912068@1533126104377/The-problem-of-the-Seven-Bridges-of-Koenigsberg-can-be-reduced-to-a-graph-in-which-nodes.png)"
   ]
  },
  {
   "cell_type": "markdown",
   "metadata": {},
   "source": [
    "### Count the number of edges linked to each node"
   ]
  },
  {
   "cell_type": "code",
   "execution_count": 48,
   "metadata": {},
   "outputs": [],
   "source": [
    "def euler_epiphany(node_list):\n",
    "    for node in node_list:\n",
    "        if node.edges_count() % 2 != 0:\n",
    "            start_or_end_node += 1\n",
    "    if start_or_end_node > 2:\n",
    "        print('IMPOSSIBLE')"
   ]
  },
  {
   "cell_type": "markdown",
   "metadata": {},
   "source": [
    "## Things that are Graphs"
   ]
  },
  {
   "cell_type": "markdown",
   "metadata": {},
   "source": [
    "![g](https://upload.wikimedia.org/wikipedia/commons/thumb/b/bd/Google_Maps_Logo_2020.svg/250px-Google_Maps_Logo_2020.svg.png \"Google Maps\")"
   ]
  },
  {
   "cell_type": "markdown",
   "metadata": {},
   "source": [
    "### Google Maps is a Graph database (GDB)\n",
    "- GDB is a a database that uses graph structures for semantic queries with nodes, edges, and properties to represent and store data.\n",
    "- It's one of Google's ideas to adress the limitations of SQL.\n",
    "- It's still a relational database but the relations are explicit by design and not implicit like in SQL"
   ]
  },
  {
   "cell_type": "markdown",
   "metadata": {},
   "source": [
    "![gif](https://media.giphy.com/media/l41Yy6jvn3BXYDRu0/giphy.gif)"
   ]
  },
  {
   "cell_type": "markdown",
   "metadata": {},
   "source": [
    "### Sudokus\n",
    "Every time you solved a Sudoku you were essentially solving a math problem, just a fun field of maths"
   ]
  },
  {
   "cell_type": "markdown",
   "metadata": {},
   "source": [
    "![giiif](https://media.giphy.com/media/cPNXOm7ln8HwK7UcbV/giphy.gif)"
   ]
  },
  {
   "cell_type": "markdown",
   "metadata": {},
   "source": [
    "### Social Networks\n",
    "Every Social Network can be thought of as a Graph and analyzed as such"
   ]
  },
  {
   "cell_type": "code",
   "execution_count": null,
   "metadata": {},
   "outputs": [],
   "source": []
  },
  {
   "cell_type": "code",
   "execution_count": null,
   "metadata": {},
   "outputs": [],
   "source": []
  },
  {
   "cell_type": "markdown",
   "metadata": {},
   "source": [
    "# A Graph of Ice and Fire"
   ]
  }
 ],
 "metadata": {
  "kernelspec": {
   "display_name": "Python 3",
   "language": "python",
   "name": "python3"
  },
  "language_info": {
   "codemirror_mode": {
    "name": "ipython",
    "version": 3
   },
   "file_extension": ".py",
   "mimetype": "text/x-python",
   "name": "python",
   "nbconvert_exporter": "python",
   "pygments_lexer": "ipython3",
   "version": "3.7.4"
  }
 },
 "nbformat": 4,
 "nbformat_minor": 2
}
